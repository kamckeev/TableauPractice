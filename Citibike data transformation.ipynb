{
 "cells": [
  {
   "cell_type": "code",
   "execution_count": 2,
   "metadata": {},
   "outputs": [],
   "source": [
    "import pandas as pd\n",
    "#2015 data\n",
    "file_1501=\"citibike_data/bike2015/201501-citibike-tripdata.csv\"\n",
    "file_1502=\"citibike_data/bike2015/201502-citibike-tripdata.csv\"\n",
    "file_1503=\"citibike_data/bike2015/201503-citibike-tripdata.csv\"\n",
    "file_1504=\"citibike_data/bike2015/201504-citibike-tripdata.csv\"\n",
    "file_1505=\"citibike_data/bike2015/201505-citibike-tripdata.csv\"\n",
    "file_1506=\"citibike_data/bike2015/201506-citibike-tripdata.csv\"\n",
    "file_1507=\"citibike_data/bike2015/201507-citibike-tripdata.csv\"\n",
    "file_1508=\"citibike_data/bike2015/201508-citibike-tripdata.csv\"\n",
    "file_1509=\"citibike_data/bike2015/201509-citibike-tripdata.csv\"\n",
    "file_1510=\"citibike_data/bike2015/201510-citibike-tripdata.csv\"\n",
    "file_1511=\"citibike_data/bike2015/201511-citibike-tripdata.csv\"\n",
    "file_1512=\"citibike_data/bike2015/201512-citibike-tripdata.csv\"\n",
    "#2018 data\n",
    "file_1801=\"citibike_data/bike2018/JC-201801-citibike-tripdata.csv\"\n",
    "file_1802=\"citibike_data/bike2018/JC-201802-citibike-tripdata.csv\"\n",
    "file_1803=\"citibike_data/bike2018/JC-201803-citibike-tripdata.csv\"\n",
    "file_1804=\"citibike_data/bike2018/JC-201804-citibike-tripdata.csv\"\n",
    "file_1805=\"citibike_data/bike2018/JC-201805-citibike-tripdata.csv\"\n",
    "file_1806=\"citibike_data/bike2018/JC-201806-citibike-tripdata.csv\"\n",
    "file_1807=\"citibike_data/bike2018/JC-201807-citibike-tripdata.csv\"\n",
    "file_1808=\"citibike_data/bike2018/JC-201808-citibike-tripdata.csv\"\n",
    "file_1809=\"citibike_data/bike2018/JC-201809-citibike-tripdata.csv\"\n",
    "file_1810=\"citibike_data/bike2018/JC-201810-citibike-tripdata.csv\"\n",
    "file_1811=\"citibike_data/bike2018/JC-201811-citibike-tripdata.csv\"\n",
    "file_1812=\"citibike_data/bike2018/JC-201812-citibike-tripdata.csv\""
   ]
  },
  {
   "cell_type": "code",
   "execution_count": 3,
   "metadata": {},
   "outputs": [],
   "source": [
    "bike_1501_df = pd.read_csv(file_1501)\n",
    "bike_1502_df = pd.read_csv(file_1502)\n",
    "bike_1503_df = pd.read_csv(file_1503)\n",
    "bike_1504_df = pd.read_csv(file_1504)\n",
    "bike_1505_df = pd.read_csv(file_1505)\n",
    "bike_1506_df = pd.read_csv(file_1506)\n",
    "bike_1507_df = pd.read_csv(file_1507)\n",
    "bike_1508_df = pd.read_csv(file_1508)\n",
    "bike_1509_df = pd.read_csv(file_1509)\n",
    "bike_1510_df = pd.read_csv(file_1510)\n",
    "bike_1511_df = pd.read_csv(file_1511)\n",
    "bike_1512_df = pd.read_csv(file_1512)\n",
    "\n",
    "bike_1801_df = pd.read_csv(file_1801)\n",
    "bike_1802_df = pd.read_csv(file_1802)\n",
    "bike_1803_df = pd.read_csv(file_1803)\n",
    "bike_1804_df = pd.read_csv(file_1804)\n",
    "bike_1805_df = pd.read_csv(file_1805)\n",
    "bike_1806_df = pd.read_csv(file_1806)\n",
    "bike_1807_df = pd.read_csv(file_1807)\n",
    "bike_1808_df = pd.read_csv(file_1808)\n",
    "bike_1809_df = pd.read_csv(file_1809)\n",
    "bike_1810_df = pd.read_csv(file_1810)\n",
    "bike_1811_df = pd.read_csv(file_1811)\n",
    "bike_1812_df = pd.read_csv(file_1812)"
   ]
  },
  {
   "cell_type": "code",
   "execution_count": 4,
   "metadata": {},
   "outputs": [],
   "source": [
    "bike2018_frames=[bike_1801_df,bike_1802_df,bike_1803_df,bike_1804_df,\n",
    "                 bike_1805_df,bike_1806_df,bike_1807_df,bike_1808_df,\n",
    "                 bike_1809_df,bike_1810_df,bike_1811_df,bike_1812_df]\n",
    "citibike2018=pd.concat(bike2018_frames)\n",
    "\n",
    "bike2015_frames=[bike_1501_df,bike_1502_df,bike_1503_df,bike_1504_df,\n",
    "                 bike_1505_df,bike_1506_df,bike_1507_df,bike_1508_df,\n",
    "                 bike_1509_df,bike_1510_df,bike_1511_df,bike_1512_df]\n",
    "citibike2015=pd.concat(bike2015_frames)\n"
   ]
  },
  {
   "cell_type": "code",
   "execution_count": 6,
   "metadata": {},
   "outputs": [
    {
     "name": "stdout",
     "output_type": "stream",
     "text": [
      "(9937969, 15)\n",
      "(353892, 15)\n"
     ]
    }
   ],
   "source": [
    "print(citibike2015.shape)\n",
    "print(citibike2018.shape)\n"
   ]
  },
  {
   "cell_type": "code",
   "execution_count": 8,
   "metadata": {},
   "outputs": [
    {
     "data": {
      "text/html": [
       "<div>\n",
       "<style scoped>\n",
       "    .dataframe tbody tr th:only-of-type {\n",
       "        vertical-align: middle;\n",
       "    }\n",
       "\n",
       "    .dataframe tbody tr th {\n",
       "        vertical-align: top;\n",
       "    }\n",
       "\n",
       "    .dataframe thead th {\n",
       "        text-align: right;\n",
       "    }\n",
       "</style>\n",
       "<table border=\"1\" class=\"dataframe\">\n",
       "  <thead>\n",
       "    <tr style=\"text-align: right;\">\n",
       "      <th></th>\n",
       "      <th>tripduration</th>\n",
       "      <th>starttime</th>\n",
       "      <th>stoptime</th>\n",
       "      <th>start station id</th>\n",
       "      <th>start station name</th>\n",
       "      <th>start station latitude</th>\n",
       "      <th>start station longitude</th>\n",
       "      <th>end station id</th>\n",
       "      <th>end station name</th>\n",
       "      <th>end station latitude</th>\n",
       "      <th>end station longitude</th>\n",
       "      <th>bikeid</th>\n",
       "      <th>usertype</th>\n",
       "      <th>birth year</th>\n",
       "      <th>gender</th>\n",
       "    </tr>\n",
       "  </thead>\n",
       "  <tbody>\n",
       "    <tr>\n",
       "      <th>0</th>\n",
       "      <td>1346</td>\n",
       "      <td>1/1/2015 0:01</td>\n",
       "      <td>1/1/2015 0:24</td>\n",
       "      <td>455</td>\n",
       "      <td>1 Ave &amp; E 44 St</td>\n",
       "      <td>40.750020</td>\n",
       "      <td>-73.969053</td>\n",
       "      <td>265</td>\n",
       "      <td>Stanton St &amp; Chrystie St</td>\n",
       "      <td>40.722293</td>\n",
       "      <td>-73.991475</td>\n",
       "      <td>18660</td>\n",
       "      <td>Subscriber</td>\n",
       "      <td>1960.0</td>\n",
       "      <td>2</td>\n",
       "    </tr>\n",
       "    <tr>\n",
       "      <th>1</th>\n",
       "      <td>363</td>\n",
       "      <td>1/1/2015 0:02</td>\n",
       "      <td>1/1/2015 0:08</td>\n",
       "      <td>434</td>\n",
       "      <td>9 Ave &amp; W 18 St</td>\n",
       "      <td>40.743174</td>\n",
       "      <td>-74.003664</td>\n",
       "      <td>482</td>\n",
       "      <td>W 15 St &amp; 7 Ave</td>\n",
       "      <td>40.739355</td>\n",
       "      <td>-73.999318</td>\n",
       "      <td>16085</td>\n",
       "      <td>Subscriber</td>\n",
       "      <td>1963.0</td>\n",
       "      <td>1</td>\n",
       "    </tr>\n",
       "  </tbody>\n",
       "</table>\n",
       "</div>"
      ],
      "text/plain": [
       "   tripduration      starttime       stoptime  start station id  \\\n",
       "0          1346  1/1/2015 0:01  1/1/2015 0:24               455   \n",
       "1           363  1/1/2015 0:02  1/1/2015 0:08               434   \n",
       "\n",
       "  start station name  start station latitude  start station longitude  \\\n",
       "0    1 Ave & E 44 St               40.750020               -73.969053   \n",
       "1    9 Ave & W 18 St               40.743174               -74.003664   \n",
       "\n",
       "   end station id          end station name  end station latitude  \\\n",
       "0             265  Stanton St & Chrystie St             40.722293   \n",
       "1             482           W 15 St & 7 Ave             40.739355   \n",
       "\n",
       "   end station longitude  bikeid    usertype  birth year  gender  \n",
       "0             -73.991475   18660  Subscriber      1960.0       2  \n",
       "1             -73.999318   16085  Subscriber      1963.0       1  "
      ]
     },
     "execution_count": 8,
     "metadata": {},
     "output_type": "execute_result"
    }
   ],
   "source": [
    "citibike2015.head(2)"
   ]
  },
  {
   "cell_type": "code",
   "execution_count": 7,
   "metadata": {},
   "outputs": [],
   "source": [
    "#df.to_csv(r'Path where you want to store the exported CSV file\\File Name.csv')\n",
    "citibike2018.to_csv(\"citibike2018.csv\", encoding= 'utf-8', index=False)\n",
    "citibike2015.to_csv(\"citibike2015.csv\", encoding= 'utf-8', index=False)"
   ]
  },
  {
   "cell_type": "code",
   "execution_count": null,
   "metadata": {},
   "outputs": [],
   "source": []
  }
 ],
 "metadata": {
  "kernelspec": {
   "display_name": "Python 3",
   "language": "python",
   "name": "python3"
  },
  "language_info": {
   "codemirror_mode": {
    "name": "ipython",
    "version": 3
   },
   "file_extension": ".py",
   "mimetype": "text/x-python",
   "name": "python",
   "nbconvert_exporter": "python",
   "pygments_lexer": "ipython3",
   "version": "3.7.0"
  }
 },
 "nbformat": 4,
 "nbformat_minor": 2
}
